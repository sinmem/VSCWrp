{
 "cells": [
  {
   "cell_type": "code",
   "execution_count": 6,
   "metadata": {},
   "outputs": [
    {
     "name": "stdout",
     "output_type": "stream",
     "text": [
      "           DATE  VALUE\n",
      "0    1948-01-01    3.4\n",
      "1    1948-02-01    3.8\n",
      "2    1948-03-01    4.0\n",
      "3    1948-04-01    3.9\n",
      "4    1948-05-01    3.5\n",
      "5    1948-06-01    3.6\n",
      "6    1948-07-01    3.6\n",
      "7    1948-08-01    3.9\n",
      "8    1948-09-01    3.8\n",
      "9    1948-10-01    3.7\n",
      "10   1948-11-01    3.8\n",
      "11   1948-12-01    4.0\n",
      "12   1949-01-01    4.3\n",
      "13   1949-02-01    4.7\n",
      "14   1949-03-01    5.0\n",
      "15   1949-04-01    5.3\n",
      "16   1949-05-01    6.1\n",
      "17   1949-06-01    6.2\n",
      "18   1949-07-01    6.7\n",
      "19   1949-08-01    6.8\n",
      "20   1949-09-01    6.6\n",
      "21   1949-10-01    7.9\n",
      "22   1949-11-01    6.4\n",
      "23   1949-12-01    6.6\n",
      "24   1950-01-01    6.5\n",
      "25   1950-02-01    6.4\n",
      "26   1950-03-01    6.3\n",
      "27   1950-04-01    5.8\n",
      "28   1950-05-01    5.5\n",
      "29   1950-06-01    5.4\n",
      "..          ...    ...\n",
      "794  2014-03-01    6.7\n",
      "795  2014-04-01    6.2\n",
      "796  2014-05-01    6.2\n",
      "797  2014-06-01    6.1\n",
      "798  2014-07-01    6.2\n",
      "799  2014-08-01    6.2\n",
      "800  2014-09-01    6.0\n",
      "801  2014-10-01    5.7\n",
      "802  2014-11-01    5.8\n",
      "803  2014-12-01    5.6\n",
      "804  2015-01-01    5.7\n",
      "805  2015-02-01    5.5\n",
      "806  2015-03-01    5.5\n",
      "807  2015-04-01    5.4\n",
      "808  2015-05-01    5.5\n",
      "809  2015-06-01    5.3\n",
      "810  2015-07-01    5.3\n",
      "811  2015-08-01    5.1\n",
      "812  2015-09-01    5.1\n",
      "813  2015-10-01    5.0\n",
      "814  2015-11-01    5.0\n",
      "815  2015-12-01    5.0\n",
      "816  2016-01-01    4.9\n",
      "817  2016-02-01    4.9\n",
      "818  2016-03-01    5.0\n",
      "819  2016-04-01    5.0\n",
      "820  2016-05-01    4.7\n",
      "821  2016-06-01    4.9\n",
      "822  2016-07-01    4.9\n",
      "823  2016-08-01    4.9\n",
      "\n",
      "[824 rows x 2 columns]\n"
     ]
    }
   ],
   "source": [
    "#numpy pandas matpotlib库的使用\n",
    "#数据分析与可视化\n",
    "import pandas as pd\n",
    "unrate = pd.read_csv('unrate.csv')\n",
    "print(unrate)"
   ]
  },
  {
   "cell_type": "code",
   "execution_count": 7,
   "metadata": {},
   "outputs": [
    {
     "name": "stdout",
     "output_type": "stream",
     "text": [
      "         DATE  VALUE\n",
      "0  1948-01-01    3.4\n",
      "1  1948-02-01    3.8\n",
      "         DATE  VALUE\n",
      "0  1948-01-01    3.4\n",
      "1  1948-02-01    3.8\n",
      "2  1948-03-01    4.0\n"
     ]
    }
   ],
   "source": [
    "#访问指定行\n",
    "\n",
    "print(unrate.head(2))\n",
    "print(unrate.loc[0:2])"
   ]
  },
  {
   "cell_type": "code",
   "execution_count": 8,
   "metadata": {},
   "outputs": [
    {
     "data": {
      "text/html": [
       "<div>\n",
       "<style scoped>\n",
       "    .dataframe tbody tr th:only-of-type {\n",
       "        vertical-align: middle;\n",
       "    }\n",
       "\n",
       "    .dataframe tbody tr th {\n",
       "        vertical-align: top;\n",
       "    }\n",
       "\n",
       "    .dataframe thead th {\n",
       "        text-align: right;\n",
       "    }\n",
       "</style>\n",
       "<table border=\"1\" class=\"dataframe\">\n",
       "  <thead>\n",
       "    <tr style=\"text-align: right;\">\n",
       "      <th></th>\n",
       "      <th>DATE</th>\n",
       "      <th>VALUE</th>\n",
       "    </tr>\n",
       "  </thead>\n",
       "  <tbody>\n",
       "    <tr>\n",
       "      <th>2</th>\n",
       "      <td>1948-03-01</td>\n",
       "      <td>4.0</td>\n",
       "    </tr>\n",
       "    <tr>\n",
       "      <th>3</th>\n",
       "      <td>1948-04-01</td>\n",
       "      <td>3.9</td>\n",
       "    </tr>\n",
       "    <tr>\n",
       "      <th>4</th>\n",
       "      <td>1948-05-01</td>\n",
       "      <td>3.5</td>\n",
       "    </tr>\n",
       "    <tr>\n",
       "      <th>5</th>\n",
       "      <td>1948-06-01</td>\n",
       "      <td>3.6</td>\n",
       "    </tr>\n",
       "    <tr>\n",
       "      <th>6</th>\n",
       "      <td>1948-07-01</td>\n",
       "      <td>3.6</td>\n",
       "    </tr>\n",
       "    <tr>\n",
       "      <th>7</th>\n",
       "      <td>1948-08-01</td>\n",
       "      <td>3.9</td>\n",
       "    </tr>\n",
       "    <tr>\n",
       "      <th>8</th>\n",
       "      <td>1948-09-01</td>\n",
       "      <td>3.8</td>\n",
       "    </tr>\n",
       "    <tr>\n",
       "      <th>9</th>\n",
       "      <td>1948-10-01</td>\n",
       "      <td>3.7</td>\n",
       "    </tr>\n",
       "    <tr>\n",
       "      <th>10</th>\n",
       "      <td>1948-11-01</td>\n",
       "      <td>3.8</td>\n",
       "    </tr>\n",
       "    <tr>\n",
       "      <th>11</th>\n",
       "      <td>1948-12-01</td>\n",
       "      <td>4.0</td>\n",
       "    </tr>\n",
       "  </tbody>\n",
       "</table>\n",
       "</div>"
      ],
      "text/plain": [
       "          DATE  VALUE\n",
       "2   1948-03-01    4.0\n",
       "3   1948-04-01    3.9\n",
       "4   1948-05-01    3.5\n",
       "5   1948-06-01    3.6\n",
       "6   1948-07-01    3.6\n",
       "7   1948-08-01    3.9\n",
       "8   1948-09-01    3.8\n",
       "9   1948-10-01    3.7\n",
       "10  1948-11-01    3.8\n",
       "11  1948-12-01    4.0"
      ]
     },
     "execution_count": 8,
     "metadata": {},
     "output_type": "execute_result"
    }
   ],
   "source": [
    "#1. df['column_name'] ，df[row_start_index, row_end_index] 选取指定整列数据\n",
    "unrate['DATE']\n",
    "unrate[2:12]\n"
   ]
  },
  {
   "cell_type": "code",
   "execution_count": 9,
   "metadata": {},
   "outputs": [
    {
     "data": {
      "text/plain": [
       "1    3.8\n",
       "2    4.0\n",
       "3    3.9\n",
       "Name: VALUE, dtype: float64"
      ]
     },
     "execution_count": 9,
     "metadata": {},
     "output_type": "execute_result"
    }
   ],
   "source": [
    "#2. loc，在知道列名字的情况下，df.loc[index,column] 选取指定行，列的数据\n",
    "unrate.loc[1:3,'VALUE']"
   ]
  },
  {
   "cell_type": "code",
   "execution_count": 5,
   "metadata": {},
   "outputs": [
    {
     "ename": "NameError",
     "evalue": "name 'firstYear' is not defined",
     "output_type": "error",
     "traceback": [
      "\u001b[1;31m---------------------------------------------------------------------------\u001b[0m",
      "\u001b[1;31mNameError\u001b[0m                                 Traceback (most recent call last)",
      "\u001b[1;32m<ipython-input-5-679abc53e901>\u001b[0m in \u001b[0;36m<module>\u001b[1;34m()\u001b[0m\n\u001b[0;32m      2\u001b[0m \u001b[1;31m#可以用iloc (i = index), iloc完全用数字来定位 iloc[row_index, column_index]\u001b[0m\u001b[1;33m\u001b[0m\u001b[1;33m\u001b[0m\u001b[0m\n\u001b[0;32m      3\u001b[0m \u001b[0munrate\u001b[0m\u001b[1;33m.\u001b[0m\u001b[0miloc\u001b[0m\u001b[1;33m[\u001b[0m\u001b[1;36m1\u001b[0m\u001b[1;33m:\u001b[0m\u001b[1;36m3\u001b[0m\u001b[1;33m,\u001b[0m\u001b[1;36m0\u001b[0m\u001b[1;33m:\u001b[0m\u001b[1;36m2\u001b[0m\u001b[1;33m]\u001b[0m\u001b[1;31m#绘制1948年失业率变化曲线图\u001b[0m\u001b[1;33m\u001b[0m\u001b[0m\n\u001b[1;32m----> 4\u001b[1;33m \u001b[0mxdata\u001b[0m\u001b[1;33m=\u001b[0m\u001b[0mfirstYear\u001b[0m\u001b[1;33m[\u001b[0m\u001b[1;34m'DATE'\u001b[0m\u001b[1;33m]\u001b[0m\u001b[1;33m\u001b[0m\u001b[0m\n\u001b[0m\u001b[0;32m      5\u001b[0m \u001b[0mydata\u001b[0m\u001b[1;33m=\u001b[0m\u001b[0mfirstYear\u001b[0m\u001b[1;33m[\u001b[0m\u001b[1;34m'VALUE'\u001b[0m\u001b[1;33m]\u001b[0m\u001b[1;33m\u001b[0m\u001b[0m\n\u001b[0;32m      6\u001b[0m \u001b[0mplt\u001b[0m\u001b[1;33m.\u001b[0m\u001b[0mplot\u001b[0m\u001b[1;33m(\u001b[0m\u001b[0mxdata\u001b[0m\u001b[1;33m,\u001b[0m\u001b[0mydata\u001b[0m\u001b[1;33m)\u001b[0m\u001b[1;33m\u001b[0m\u001b[0m\n",
      "\u001b[1;31mNameError\u001b[0m: name 'firstYear' is not defined"
     ]
    }
   ],
   "source": [
    "#3. iloc，在column name特别长或者index是时间序列等各种不方便输入的情况下，\n",
    "#可以用iloc (i = index), iloc完全用数字来定位 iloc[row_index, column_index]\n",
    "from matplotlib.font_manager import FontProperties \n",
    "font_set = FontProperties(fname=r\"c:\\windows\\fonts\\simsun.ttc\", size=12)\n",
    "firstYear=unrate.loc[0:11]\n",
    "xdata=firstYear['DATE']\n",
    "ydata=firstYear['VALUE']\n",
    "plt.plot(xdata,ydata)\n",
    "plt.xticks(rotation=90)\n",
    "plt.xlabel('月份',fontproperties=font_set)\n",
    "plt.ylabel('失业百分比',fontproperties=font_set)\n",
    "plt.title(\"1948年美国失业形势\",fontproperties=font_set)\n",
    "plt.show()"
   ]
  },
  {
   "cell_type": "code",
   "execution_count": null,
   "metadata": {},
   "outputs": [],
   "source": [
    "#4. ix, ix很强大，loc和iloc的功能都能做到 ix[row_index, column_index]\n",
    "#切片时，iloc行不含下标上限，loc,ix行包含，列iloc和ix都不含列下标上限\n",
    "unrate.ix[1:3,0:2]"
   ]
  },
  {
   "cell_type": "code",
   "execution_count": null,
   "metadata": {},
   "outputs": [],
   "source": [
    "#数据可视化matplotlib\n",
    "import matplotlib.pyplot as plt\n",
    "firstYear=unrate.loc[0:11]\n",
    "print(firstYear)"
   ]
  },
  {
   "cell_type": "code",
   "execution_count": null,
   "metadata": {},
   "outputs": [],
   "source": [
    "#绘制1948年失业率变化曲线图\n",
    "xdata=firstYear['DATE']\n",
    "ydata=firstYear['VALUE']\n",
    "plt.plot(xdata,ydata)\n",
    "plt.show()"
   ]
  },
  {
   "cell_type": "code",
   "execution_count": null,
   "metadata": {},
   "outputs": [],
   "source": [
    "#坐标轴优化\n",
    "plt.plot(xdata,ydata)\n",
    "plt.xticks(rotation=45)\n",
    "plt.show()"
   ]
  },
  {
   "cell_type": "code",
   "execution_count": null,
   "metadata": {},
   "outputs": [],
   "source": [
    "#添加x,y轴说明\n",
    "plt.plot(xdata,ydata)\n",
    "plt.xticks(rotation=90)\n",
    "plt.xlabel('月份')\n",
    "plt.ylabel('失业率 ')\n",
    "plt.title('1948年美国就业趋势')\n",
    "plt.show()"
   ]
  },
  {
   "cell_type": "code",
   "execution_count": null,
   "metadata": {},
   "outputs": [],
   "source": [
    " #中文乱码处理\n",
    "from matplotlib.font_manager import FontProperties \n",
    "font_set = FontProperties(fname=r\"c:\\windows\\fonts\\simsun.ttc\", size=12)\n",
    "plt.plot(xdata,ydata)\n",
    "plt.xticks(rotation=90)\n",
    "plt.xlabel('月份',fontproperties=font_set)\n",
    "plt.ylabel('失业率 ',fontproperties=font_set)\n",
    "plt.title('1948年美国就业趋势',fontproperties=font_set)\n",
    "plt.show()\n"
   ]
  },
  {
   "cell_type": "code",
   "execution_count": null,
   "metadata": {},
   "outputs": [],
   "source": [
    "import datetime\n",
    "date_time = datetime.datetime.strptime(unrate.iloc[1,0],'%Y-%m-%d')\n",
    "print(date_time.month)"
   ]
  },
  {
   "cell_type": "code",
   "execution_count": null,
   "metadata": {},
   "outputs": [],
   "source": [
    "import datetime\n",
    "unrate['MONTH'] =unrate['DATE'].astype('datetime64')\n",
    "unrate['MONTH']=unrate['MONTH'].dt.month\n",
    "print(unrate['MONTH'])"
   ]
  },
  {
   "cell_type": "code",
   "execution_count": null,
   "metadata": {},
   "outputs": [],
   "source": [
    "#多对象作图\n",
    "import datetime\n",
    "unrate['MONTH'] =unrate['DATE'].astype('datetime64')\n",
    "unrate['MONTH']=unrate['MONTH'].dt.month\n",
    "fig = plt.figure(figsize=(6,3))\n",
    "\n",
    "plt.plot(unrate[0:12]['MONTH'], unrate[0:12]['VALUE'], c='red')\n",
    "plt.plot(unrate[12:24]['MONTH'], unrate[12:24]['VALUE'], c='blue')\n",
    "\n",
    "plt.show()"
   ]
  },
  {
   "cell_type": "code",
   "execution_count": null,
   "metadata": {},
   "outputs": [],
   "source": [
    "#5年作图\n",
    "fig = plt.figure(figsize=(10,6))\n",
    "colors = ['red', 'blue', 'green', 'orange', 'black']\n",
    "for i in range(5):\n",
    "    start_index = i*12\n",
    "    end_index = (i+1)*12\n",
    "    subset = unrate[start_index:end_index]\n",
    "    plt.plot(subset['MONTH'], subset['VALUE'], c=colors[i])\n",
    "    \n",
    "plt.show()"
   ]
  },
  {
   "cell_type": "code",
   "execution_count": null,
   "metadata": {},
   "outputs": [],
   "source": [
    "#添加图例\n",
    "fig = plt.figure(figsize=(10,6))\n",
    "colors = ['red', 'blue', 'green', 'orange', 'black']\n",
    "for i in range(5):\n",
    "    start_index = i*12\n",
    "    end_index = (i+1)*12\n",
    "    subset = unrate[start_index:end_index]\n",
    "    label = str(1948 + i)\n",
    "    plt.plot(subset['MONTH'], subset['VALUE'], c=colors[i], label=label)\n",
    "plt.legend(loc='best')\n",
    "#print help(plt.legend)\n",
    "plt.show()"
   ]
  },
  {
   "cell_type": "code",
   "execution_count": null,
   "metadata": {},
   "outputs": [],
   "source": [
    "#标注数据点\n",
    "fig = plt.figure(figsize=(10,6))\n",
    "colors = ['red', 'blue', 'green', 'orange', 'black']\n",
    "for i in range(5):\n",
    "    start_index = i*12\n",
    "    end_index = (i+1)*12\n",
    "    subset = unrate[start_index:end_index]\n",
    "    label = str(1948 + i)\n",
    "    plt.plot(subset['MONTH'], subset['VALUE'], c=colors[i], label=label,marker='+')\n",
    "plt.legend(loc='best')\n",
    "#print help(plt.legend)\n",
    "plt.show()"
   ]
  },
  {
   "cell_type": "code",
   "execution_count": null,
   "metadata": {},
   "outputs": [],
   "source": [
    "#课堂作业：绘制1948年以来的年平均失业率曲线\n"
   ]
  }
 ],
 "metadata": {
  "kernelspec": {
   "display_name": "Python 3",
   "language": "python",
   "name": "python3"
  },
  "language_info": {
   "codemirror_mode": {
    "name": "ipython",
    "version": 3
   },
   "file_extension": ".py",
   "mimetype": "text/x-python",
   "name": "python",
   "nbconvert_exporter": "python",
   "pygments_lexer": "ipython3",
   "version": "3.6.4"
  }
 },
 "nbformat": 4,
 "nbformat_minor": 2
}
